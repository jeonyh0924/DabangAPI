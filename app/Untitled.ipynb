{
 "cells": [
  {
   "cell_type": "code",
   "execution_count": 300,
   "metadata": {},
   "outputs": [],
   "source": [
    "import os\n",
    "import re\n",
    "import time\n",
    "import urllib\n",
    "import requests\n",
    "from django.core.files import File\n",
    "from selenium import webdriver\n",
    "from selenium.common.exceptions import NoSuchElementException, UnexpectedAlertPresentException\n",
    "import json"
   ]
  },
  {
   "cell_type": "code",
   "execution_count": 301,
   "metadata": {},
   "outputs": [],
   "source": [
    "driver = webdriver.Chrome('/Users/mac/projects/ChromeWebDriver/chromedriver')"
   ]
  },
  {
   "cell_type": "code",
   "execution_count": 302,
   "metadata": {},
   "outputs": [],
   "source": [
    "presaleMainList = [\n",
    "#     'https://www.dabangapp.com/sales-in-lots#/theme',\n",
    "    'https://www.dabangapp.com/sales-in-lots#/brand']"
   ]
  },
  {
   "cell_type": "markdown",
   "metadata": {},
   "source": [
    "# 브랜드관"
   ]
  },
  {
   "cell_type": "code",
   "execution_count": 304,
   "metadata": {},
   "outputs": [
    {
     "name": "stdout",
     "output_type": "stream",
     "text": [
      "https://www.dabangapp.com/sales-in-lots#/brand\n",
      "1\n",
      "/html/body/div[1]/div/div[2]/div/div/div[1]/div/div[1]\n",
      "brand >> 아이파크\n"
     ]
    },
    {
     "name": "stderr",
     "output_type": "stream",
     "text": [
      "/usr/local/var/pyenv/versions/3.7.4/envs/fc-dabangTransfer/lib/python3.7/site-packages/ipykernel_launcher.py:22: DeprecationWarning: use driver.switch_to.window instead\n"
     ]
    },
    {
     "name": "stdout",
     "output_type": "stream",
     "text": [
      "1\n"
     ]
    },
    {
     "name": "stderr",
     "output_type": "stream",
     "text": [
      "/usr/local/var/pyenv/versions/3.7.4/envs/fc-dabangTransfer/lib/python3.7/site-packages/ipykernel_launcher.py:27: DeprecationWarning: use driver.switch_to.window instead\n"
     ]
    },
    {
     "name": "stdout",
     "output_type": "stream",
     "text": [
      "2\n",
      "3\n",
      "4\n",
      "5\n",
      "6\n",
      "7\n",
      "8\n",
      "9\n",
      "10\n",
      "11\n",
      "12\n",
      "13\n",
      "--------\n",
      "2\n",
      "/html/body/div[1]/div/div[2]/div/div/div[1]/div/div[2]\n",
      "brand >> 푸르지오\n",
      "1\n",
      "2\n",
      "3\n",
      "4\n",
      "5\n",
      "6\n",
      "7\n",
      "8\n",
      "9\n",
      "10\n",
      "11\n",
      "12\n",
      "13\n",
      "14\n",
      "15\n",
      "16\n",
      "17\n",
      "18\n",
      "19\n",
      "20\n",
      "21\n",
      "22\n",
      "23\n",
      "--------\n",
      "3\n",
      "/html/body/div[1]/div/div[2]/div/div/div[1]/div/div[3]\n",
      "brand >> e편한세상\n",
      "1\n",
      "2\n",
      "3\n",
      "4\n",
      "5\n",
      "6\n",
      "7\n",
      "8\n",
      "9\n",
      "10\n",
      "11\n",
      "12\n",
      "--------\n",
      "4\n",
      "/html/body/div[1]/div/div[2]/div/div/div[1]/div/div[4]\n",
      "brand >> SK뷰\n",
      "1\n",
      "2\n",
      "3\n",
      "4\n",
      "5\n",
      "6\n",
      "7\n",
      "--------\n"
     ]
    }
   ],
   "source": [
    "for main_url in presaleMainList:\n",
    "    driver.get(main_url)\n",
    "    if main_url == 'https://www.dabangapp.com/sales-in-lots#/theme':\n",
    "        pass\n",
    "    else:\n",
    "        for url in presaleMainList:\n",
    "            print(url)\n",
    "            driver.get(url)\n",
    "            brand_name_list = driver.find_elements_by_xpath('/html/body/div[1]/div/div[2]/div/div/div[1]/div/div')\n",
    "            for index in range(len(brand_name_list)):\n",
    "                print(f'{index+1}')\n",
    "                print(f'/html/body/div[1]/div/div[2]/div/div/div[1]/div/div[{index+1}]')\n",
    "                button = driver.find_element_by_xpath(f'/html/body/div[1]/div/div[2]/div/div/div[1]/div/div[{index+1}]')\n",
    "                brand = button.get_attribute('innerText')\n",
    "                print('brand >>', brand)\n",
    "                driver.execute_script(\"arguments[0].click();\", button)\n",
    "                time.sleep(1)\n",
    "                table_rows = driver.find_elements_by_xpath('/html/body/div[1]/div/div[2]/div/div/div[2]/table/tbody/tr')\n",
    "                for row_index, rows in enumerate(rang₩e(len(table_rows))):\n",
    "                    button = driver.find_element_by_xpath(f'/html/body/div[1]/div/div[2]/div/div/div[2]/table/tbody/tr[{row_index+1}]')\n",
    "                    driver.execute_script(\"arguments[0].click();\", button)\n",
    "                    driver.switch_to_window(driver.window_handles[1])\n",
    "                    print(row_index+1)\n",
    "                    time.sleep(1)\n",
    "        #             페이지 크롤링 시작 \n",
    "                    driver.close();\n",
    "                    driver.switch_to_window(driver.window_handles[0])\n",
    "                print('--------')"
   ]
  },
  {
   "cell_type": "code",
   "execution_count": 282,
   "metadata": {},
   "outputs": [],
   "source": [
    "concept_list = driver.find_elements_by_xpath('/html/body/div[1]/div/div[2]/div/div/div[1]/div[1]/p')"
   ]
  },
  {
   "cell_type": "code",
   "execution_count": 283,
   "metadata": {},
   "outputs": [
    {
     "data": {
      "text/plain": [
       "7"
      ]
     },
     "execution_count": 283,
     "metadata": {},
     "output_type": "execute_result"
    }
   ],
   "source": [
    "len(concept_list)"
   ]
  },
  {
   "cell_type": "code",
   "execution_count": 281,
   "metadata": {},
   "outputs": [],
   "source": [
    "driver.get('https://www.dabangapp.com/sales-in-lots#/theme')"
   ]
  },
  {
   "cell_type": "code",
   "execution_count": 284,
   "metadata": {},
   "outputs": [
    {
     "name": "stdout",
     "output_type": "stream",
     "text": [
      "청약중 ------------------------ thema\n",
      "--------\n",
      "역세권 ------------------------ thema\n",
      "--------\n",
      "신도시 ------------------------ thema\n",
      "--------\n",
      "재개발재건축 ------------------------ thema\n",
      "--------\n",
      "분양예정 ------------------------ thema\n",
      "--------\n",
      "대단지 ------------------------ thema\n",
      "--------\n",
      "GTX권 ------------------------ thema\n",
      "--------\n"
     ]
    }
   ],
   "source": [
    "# 테마분양 크롤링\n",
    "for index in range(len(concept_list)):\n",
    "    try:\n",
    "        button = driver.find_element_by_xpath(f'/html/body/div[1]/div/div[2]/div/div/div[1]/div[1]/p[{index+1}]')\n",
    "        thema = driver.find_element_by_xpath(f'/html/body/div[1]/div/div[2]/div/div/div[1]/div[1]/p[{index+1}]')\n",
    "        thema = thema.get_attribute('innerText')\n",
    "        print(thema, '------------------------ thema')\n",
    "        driver.execute_script(\"arguments[0].click();\", button)\n",
    "        time.sleep(1)\n",
    "        table_rows = driver.find_elements_by_xpath('/html/body/div[1]/div/div[2]/div/div/div[2]/table/tbody/tr')\n",
    "        for row_index, rows in enumerate(range(len(table_rows))):\n",
    "            button = driver.find_element_by_xpath(f'/html/body/div[1]/div/div[2]/div/div/div[2]/table/tbody/tr[{row_index+1}]')\n",
    "            driver.execute_script(\"arguments[0].click();\", button)\n",
    "            driver.switch_to_window(driver.window_handles[1])\n",
    "            print(row_index+1)\n",
    "            time.sleep(1)\n",
    "#             페이지 크롤링 시작 \n",
    "            driver.close();\n",
    "            driver.switch_to_window(driver.window_handles[0])\n",
    "        print('--------')\n",
    "    except NoSuchElementException:\n",
    "        pass"
   ]
  },
  {
   "cell_type": "code",
   "execution_count": 223,
   "metadata": {},
   "outputs": [],
   "source": [
    "driver.get('https://www.dabangapp.com/sales-in-lots/5cc6bf857c8b1e43b853eff5a9d0')"
   ]
  },
  {
   "cell_type": "code",
   "execution_count": 224,
   "metadata": {},
   "outputs": [
    {
     "name": "stdout",
     "output_type": "stream",
     "text": [
      "status >> 분양예정\n"
     ]
    }
   ],
   "source": [
    "status = driver.find_element_by_xpath('/html/body/div[1]/div/div/div[1]/div/div/div[1]/span[1]')\n",
    "status = status.get_attribute('innerText')\n",
    "print('status >>', status)"
   ]
  },
  {
   "cell_type": "code",
   "execution_count": 225,
   "metadata": {},
   "outputs": [
    {
     "name": "stdout",
     "output_type": "stream",
     "text": [
      "term>>> 20년 하반기 모집공고\n"
     ]
    }
   ],
   "source": [
    "term = driver.find_element_by_xpath('/html/body/div[1]/div/div/div[1]/div/div/div[1]/span[2]')\n",
    "term = term.get_attribute('innerText')\n",
    "print('term>>>', term)"
   ]
  },
  {
   "cell_type": "code",
   "execution_count": 251,
   "metadata": {},
   "outputs": [
    {
     "name": "stdout",
     "output_type": "stream",
     "text": [
      "name >>>  산성역 센트럴파크 자이&푸르지오\n"
     ]
    }
   ],
   "source": [
    "name = driver.find_element_by_xpath('/html/body/div[1]/div/div/div[1]/div/div/div[1]/h1')\n",
    "name = name.get_attribute('innerText')\n",
    "print('name >>> ', name)"
   ]
  },
  {
   "cell_type": "code",
   "execution_count": 227,
   "metadata": {},
   "outputs": [
    {
     "name": "stdout",
     "output_type": "stream",
     "text": [
      "place >>>>  경기도 성남시 수정구 신흥동\n"
     ]
    }
   ],
   "source": [
    "place = driver.find_element_by_xpath('/html/body/div[1]/div/div/div[1]/div/div/div[1]/p')\n",
    "place = place.get_attribute('innerText')\n",
    "print('place >>>> ', place)"
   ]
  },
  {
   "cell_type": "code",
   "execution_count": 228,
   "metadata": {},
   "outputs": [
    {
     "name": "stdout",
     "output_type": "stream",
     "text": [
      "sales type >>>>  아파트\n"
     ]
    }
   ],
   "source": [
    "sales_type = driver.find_element_by_xpath('/html/body/div[1]/div/div/div[1]/div/div/div[2]/span')\n",
    "sales_type = sales_type.get_attribute('innerText')\n",
    "print('sales type >>>> ', sales_type)"
   ]
  },
  {
   "cell_type": "code",
   "execution_count": 229,
   "metadata": {},
   "outputs": [
    {
     "name": "stdout",
     "output_type": "stream",
     "text": [
      "sales price >>>  분양가 준비중\n"
     ]
    }
   ],
   "source": [
    "sales_price = driver.find_element_by_xpath('/html/body/div[1]/div/div/div[1]/div/div/div[2]/p')\n",
    "sales_price = sales_price.get_attribute('innerText')\n",
    "print('sales price >>> ', sales_price)"
   ]
  },
  {
   "cell_type": "code",
   "execution_count": 230,
   "metadata": {},
   "outputs": [
    {
     "name": "stdout",
     "output_type": "stream",
     "text": [
      "total citizen >>  4774세대\n"
     ]
    }
   ],
   "source": [
    "total_citizen = driver.find_element_by_xpath('/html/body/div[1]/div/div/div[1]/div/ul/li[1]/p[2]')\n",
    "total_citizen = total_citizen.get_attribute('innerText')\n",
    "print('total citizen >> ', total_citizen)"
   ]
  },
  {
   "cell_type": "code",
   "execution_count": 231,
   "metadata": {},
   "outputs": [
    {
     "name": "stdout",
     "output_type": "stream",
     "text": [
      "sales_citizen >>>>  1718세대\n"
     ]
    }
   ],
   "source": [
    "sales_citizen = driver.find_element_by_xpath('/html/body/div[1]/div/div/div[1]/div/ul/li[2]/p[2]')\n",
    "sales_citizen = sales_citizen.get_attribute('innerText')\n",
    "print('sales_citizen >>>> ', sales_citizen)"
   ]
  },
  {
   "cell_type": "code",
   "execution_count": 232,
   "metadata": {},
   "outputs": [
    {
     "name": "stdout",
     "output_type": "stream",
     "text": [
      "min_max_floor >>>  지상 29층\n"
     ]
    }
   ],
   "source": [
    "min_max_floor = driver.find_element_by_xpath('/html/body/div[1]/div/div/div[1]/div/ul/li[3]/p[2]')\n",
    "min_max_floor = min_max_floor.get_attribute('innerText')\n",
    "print('min_max_floor >>> ', min_max_floor)"
   ]
  },
  {
   "cell_type": "code",
   "execution_count": 233,
   "metadata": {
    "scrolled": true
   },
   "outputs": [
    {
     "name": "stdout",
     "output_type": "stream",
     "text": [
      "complex_sclae >>  총 31개동\n"
     ]
    }
   ],
   "source": [
    "complex_scale = driver.find_element_by_xpath('/html/body/div[1]/div/div/div[1]/div/ul/li[4]/p[2]')\n",
    "complex_scale = complex_scale.get_attribute('innerText')\n",
    "print('complex_sclae >> ', complex_scale )"
   ]
  },
  {
   "cell_type": "markdown",
   "metadata": {},
   "source": [
    "# 디테일 부분"
   ]
  },
  {
   "cell_type": "code",
   "execution_count": 234,
   "metadata": {},
   "outputs": [
    {
     "name": "stdout",
     "output_type": "stream",
     "text": [
      "detail_type >>>  아파트\n"
     ]
    }
   ],
   "source": [
    "detail_type = driver.find_element_by_xpath('/html/body/div[1]/div/div/div[3]/div/table/tbody/tr[1]/td[1]')\n",
    "detail_type = detail_type.get_attribute('innerText')\n",
    "print('detail_type >>> ', detail_type)"
   ]
  },
  {
   "cell_type": "code",
   "execution_count": 235,
   "metadata": {},
   "outputs": [
    {
     "name": "stdout",
     "output_type": "stream",
     "text": [
      "constraint >> 전매제한\n"
     ]
    }
   ],
   "source": [
    "constraint = driver.find_element_by_xpath('/html/body/div[1]/div/div/div[3]/div/table/tbody/tr[2]/td[1]')\n",
    "constraint = constraint.get_attribute('innerText')\n",
    "print('constraint >>', constraint)"
   ]
  },
  {
   "cell_type": "code",
   "execution_count": 236,
   "metadata": {},
   "outputs": [
    {
     "name": "stdout",
     "output_type": "stream",
     "text": [
      "area >>> 51~84㎡\n"
     ]
    }
   ],
   "source": [
    "area = driver.find_element_by_xpath('/html/body/div[1]/div/div/div[3]/div/table/tbody/tr[3]/td[1]')\n",
    "area = area.get_attribute('innerText')\n",
    "print('area >>>', area)"
   ]
  },
  {
   "cell_type": "code",
   "execution_count": 237,
   "metadata": {},
   "outputs": [
    {
     "name": "stdout",
     "output_type": "stream",
     "text": [
      "supply_type >> 민간분양\n"
     ]
    }
   ],
   "source": [
    "supply_type = driver.find_element_by_xpath('/html/body/div[1]/div/div/div[3]/div/table/tbody/tr[1]/td[2]')\n",
    "supply_type = supply_type.get_attribute('innerText')\n",
    "print('supply_type >>', supply_type)"
   ]
  },
  {
   "cell_type": "code",
   "execution_count": 238,
   "metadata": {},
   "outputs": [
    {
     "name": "stdout",
     "output_type": "stream",
     "text": [
      "constraint 공급 제한 지역 >> -\n"
     ]
    }
   ],
   "source": [
    "constraint_area = driver.find_element_by_xpath('/html/body/div[1]/div/div/div[3]/div/table/tbody/tr[2]/td[2]')\n",
    "constraint_area = constraint_area.get_attribute('innerText')\n",
    "print('constraint 공급 제한 지역 >>', constraint_area)"
   ]
  },
  {
   "cell_type": "code",
   "execution_count": 239,
   "metadata": {},
   "outputs": [
    {
     "name": "stdout",
     "output_type": "stream",
     "text": [
      "recruit >> 20년 하반기\n"
     ]
    }
   ],
   "source": [
    "recruit = driver.find_element_by_xpath('/html/body/div[1]/div/div/div[3]/div/table/tbody/tr[3]/td[2]')\n",
    "recruit = recruit.get_attribute('innerText')\n",
    "print('recruit >>', recruit)"
   ]
  },
  {
   "cell_type": "code",
   "execution_count": 240,
   "metadata": {},
   "outputs": [
    {
     "name": "stdout",
     "output_type": "stream",
     "text": [
      "builder >> GS건설,대우건설\n"
     ]
    }
   ],
   "source": [
    "builder = driver.find_element_by_xpath('/html/body/div[1]/div/div/div[3]/div/table/tbody/tr[1]/td[3]')\n",
    "builder = builder.get_attribute('innerText')\n",
    "print('builder >>', builder)"
   ]
  },
  {
   "cell_type": "code",
   "execution_count": 241,
   "metadata": {},
   "outputs": [
    {
     "name": "stdout",
     "output_type": "stream",
     "text": [
      "max_price >>>  -\n"
     ]
    }
   ],
   "source": [
    "max_price = driver.find_element_by_xpath('/html/body/div[1]/div/div/div[3]/div/table/tbody/tr[2]/td[3]')\n",
    "max_price = max_price.get_attribute('innerText')\n",
    "print('max_price >>> ', max_price)"
   ]
  },
  {
   "cell_type": "code",
   "execution_count": 242,
   "metadata": {},
   "outputs": [
    {
     "name": "stdout",
     "output_type": "stream",
     "text": [
      "move In >>> 준비중\n"
     ]
    }
   ],
   "source": [
    "moveIn = driver.find_element_by_xpath('/html/body/div[1]/div/div/div[3]/div/table/tbody/tr[3]/td[3]')\n",
    "moveIn = moveIn.get_attribute('innerText')\n",
    "print('move In >>>', moveIn)"
   ]
  },
  {
   "cell_type": "code",
   "execution_count": 243,
   "metadata": {},
   "outputs": [
    {
     "name": "stdout",
     "output_type": "stream",
     "text": [
      "developer >> -\n"
     ]
    }
   ],
   "source": [
    "developer = driver.find_element_by_xpath('/html/body/div[1]/div/div/div[3]/div/table/tbody/tr[1]/td[4]')\n",
    "developer = developer.get_attribute('innerText')\n",
    "print('developer >>', developer)"
   ]
  },
  {
   "cell_type": "code",
   "execution_count": 244,
   "metadata": {},
   "outputs": [
    {
     "name": "stdout",
     "output_type": "stream",
     "text": [
      "constraint_term >>> -\n"
     ]
    }
   ],
   "source": [
    "constraint_term = driver.find_element_by_xpath('/html/body/div[1]/div/div/div[3]/div/table/tbody/tr[2]/td[4]')\n",
    "constraint_term = constraint_term.get_attribute('innerText')\n",
    "print('constraint_term >>>', constraint_term)"
   ]
  },
  {
   "cell_type": "markdown",
   "metadata": {},
   "source": [
    "# 이미지"
   ]
  },
  {
   "cell_type": "code",
   "execution_count": 245,
   "metadata": {},
   "outputs": [],
   "source": [
    "div_list = driver.find_elements_by_xpath('/html/body/div[1]/div/div/div[4]/div/div/div')\n",
    "\n",
    "complex_image_list = []\n",
    "\n",
    "for i, url in enumerate(div_list):\n",
    "    try:\n",
    "        cls_name = url.get_attribute('class')\n",
    "        cls_name = cls_name.split(' ')\n",
    "        cls_name = cls_name[1]\n",
    "        photo = driver.execute_script(\n",
    "            f'return window.getComputedStyle(document.querySelector(\".{cls_name}\"),\":after\").getPropertyValue(\"background\")')\n",
    "        recommend_image = re.findall(r'\"(.*?)\"', photo)\n",
    "        complex_image_list.append(recommend_image[0])\n",
    "    except IndexError:\n",
    "        pass\n"
   ]
  },
  {
   "cell_type": "code",
   "execution_count": 246,
   "metadata": {},
   "outputs": [
    {
     "data": {
      "text/plain": [
       "['https://d2o59jgeq8ig2.cloudfront.net/complex/1024/73f83795-bc89-4241-a540-2427b9263905',\n",
       " 'https://www.dabangapp.com/sales-in-lots/5cc6bf857c8b1e43b853eff5a9d0',\n",
       " 'https://www.dabangapp.com/sales-in-lots/5cc6bf857c8b1e43b853eff5a9d0',\n",
       " 'https://www.dabangapp.com/sales-in-lots/5cc6bf857c8b1e43b853eff5a9d0',\n",
       " 'https://www.dabangapp.com/sales-in-lots/5cc6bf857c8b1e43b853eff5a9d0']"
      ]
     },
     "execution_count": 246,
     "metadata": {},
     "output_type": "execute_result"
    }
   ],
   "source": [
    "complex_image_list"
   ]
  },
  {
   "cell_type": "code",
   "execution_count": 247,
   "metadata": {},
   "outputs": [
    {
     "name": "stdout",
     "output_type": "stream",
     "text": [
      "d\n"
     ]
    }
   ],
   "source": [
    "# 빈 리스트라면\n",
    "if not complex_image_list:\n",
    "    print('빈 리스트')\n",
    "else:\n",
    "    print('d')"
   ]
  },
  {
   "cell_type": "code",
   "execution_count": 250,
   "metadata": {},
   "outputs": [
    {
     "name": "stdout",
     "output_type": "stream",
     "text": [
      "None None\n"
     ]
    }
   ],
   "source": [
    "try:\n",
    "    detail_price = driver.find_element_by_xpath('/html/body/div[1]/div/div/div[6]/div[1]/div/ul/li[1]/div/p[2]')\n",
    "    detail_price = detail_price.get_attribute('innerText')\n",
    "    print('detail_price >>', detail_price)\n",
    "    price_pyeong = driver.find_element_by_xpath('/html/body/div[1]/div/div/div[6]/div[1]/div/ul/li[2]/div/p[2]')\n",
    "    price_pyeong = price_pyeong.get_attribute('innerText')\n",
    "    print('price_pyeong>>', price_pyeong)\n",
    "except NoSuchElementException:\n",
    "    detail_price = None\n",
    "    price_pyeong = None\n",
    "    print(detail_price, price_pyeong)"
   ]
  },
  {
   "cell_type": "code",
   "execution_count": null,
   "metadata": {},
   "outputs": [],
   "source": []
  },
  {
   "cell_type": "code",
   "execution_count": null,
   "metadata": {},
   "outputs": [],
   "source": []
  }
 ],
 "metadata": {
  "kernelspec": {
   "display_name": "Python 3",
   "language": "python",
   "name": "python3"
  },
  "language_info": {
   "codemirror_mode": {
    "name": "ipython",
    "version": 3
   },
   "file_extension": ".py",
   "mimetype": "text/x-python",
   "name": "python",
   "nbconvert_exporter": "python",
   "pygments_lexer": "ipython3",
   "version": "3.7.4"
  }
 },
 "nbformat": 4,
 "nbformat_minor": 4
}
