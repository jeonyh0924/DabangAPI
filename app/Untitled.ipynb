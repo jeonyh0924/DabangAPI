{
 "cells": [
  {
   "cell_type": "code",
   "execution_count": 1,
   "metadata": {},
   "outputs": [],
   "source": [
    "import os\n",
    "import re\n",
    "import time\n",
    "import urllib\n",
    "import requests\n",
    "from django.core.files import File\n",
    "from selenium import webdriver\n",
    "from selenium.common.exceptions import NoSuchElementException, UnexpectedAlertPresentException\n",
    "import json"
   ]
  },
  {
   "cell_type": "code",
   "execution_count": 2,
   "metadata": {},
   "outputs": [],
   "source": [
    "driver = webdriver.Chrome('/Users/mac/projects/ChromeWebDriver/chromedriver')"
   ]
  },
  {
   "cell_type": "code",
   "execution_count": 3,
   "metadata": {},
   "outputs": [],
   "source": [
    "driver.get('https://www.dabangapp.com/room/5e992d31d9d3a15c88491696')"
   ]
  },
  {
   "cell_type": "code",
   "execution_count": 4,
   "metadata": {},
   "outputs": [],
   "source": [
    "try:\n",
    "    button = driver.find_element_by_xpath('/html/body/div[1]/div/div[4]/div/div/button')\n",
    "    driver.execute_script(\"arguments[0].click();\", button)\n",
    "except NoSuchElementException:\n",
    "    pass"
   ]
  },
  {
   "cell_type": "code",
   "execution_count": 5,
   "metadata": {},
   "outputs": [],
   "source": [
    "description = driver.find_elements_by_xpath(\"/html/body/div[1]/div/div[4]/div/div\")\n",
    "description = description[0].get_attribute(\"innerText\")\n",
    "description = description.replace(\"\\n\", \"\")\n"
   ]
  },
  {
   "cell_type": "code",
   "execution_count": 6,
   "metadata": {},
   "outputs": [
    {
     "data": {
      "text/plain": [
       "'(특)리모델링 초호화 력셔리 주거공간 ! 미공개매물 다량보유*안녕하세요.트리마제 전문 신세계중개법인 입니다. [대부분 직접매물/가장 많은 매물보유/철저한 입주관리 시스템 구축] *성수동 부촌 시작되는 위치의 트리마제 고급아파트를 소개합니다.*한강의 동서로 유유히 흐르는 한강을 막힘없이 보실수 있는 최고의영구한강조망권을 갖고 있는 트리마제 입니다.*고급호텔식 컨시어지 서비스를 내 집에서 누리실수 있습니다.(조리실을 갖춘 호텔식 조식서비스,발렛,파킹,포터,린넨,가사도우미)*넓은 명품커뮤니티시설을 편하게 이용해보세요.(28M 2층 인도어골프연습장,휘트니스,사우나,스파,까페테리아)*단지에서 바로 연결되는 한강산책로에서의 운동과 단지 바로앞의서울숲은 최고의 행복한 생활이 가능한 트리마제의 인기요인 입니다 *강남의 쇼핑,문화,명품거리등 모든 생활권을 가깝게 누릴수 있습니다 *성수대교,강변북로,올림픽대로,동부간선도로 등 주요 도로 진입이굉장히 편리하며 분당선 서울숲역은 도보 5분거리로 교통역세권에위치하고 있습니다.* 신축 아파트인 트리마제 현재 가장 많은 매물을 확보하고 있습니다. 궁금하신 내용은 언제든지 전화주시면 정확하고 친절하게안내해 드리겠습니다. 접기'"
      ]
     },
     "execution_count": 6,
     "metadata": {},
     "output_type": "execute_result"
    }
   ],
   "source": [
    "description"
   ]
  },
  {
   "cell_type": "code",
   "execution_count": 9,
   "metadata": {},
   "outputs": [],
   "source": [
    "if '접기' in description:\n",
    "        description = description.split('접기')"
   ]
  },
  {
   "cell_type": "code",
   "execution_count": 12,
   "metadata": {},
   "outputs": [],
   "source": [
    "description = description[0]"
   ]
  },
  {
   "cell_type": "code",
   "execution_count": 13,
   "metadata": {},
   "outputs": [
    {
     "data": {
      "text/plain": [
       "'(특)리모델링 초호화 력셔리 주거공간 ! 미공개매물 다량보유*안녕하세요.트리마제 전문 신세계중개법인 입니다. [대부분 직접매물/가장 많은 매물보유/철저한 입주관리 시스템 구축] *성수동 부촌 시작되는 위치의 트리마제 고급아파트를 소개합니다.*한강의 동서로 유유히 흐르는 한강을 막힘없이 보실수 있는 최고의영구한강조망권을 갖고 있는 트리마제 입니다.*고급호텔식 컨시어지 서비스를 내 집에서 누리실수 있습니다.(조리실을 갖춘 호텔식 조식서비스,발렛,파킹,포터,린넨,가사도우미)*넓은 명품커뮤니티시설을 편하게 이용해보세요.(28M 2층 인도어골프연습장,휘트니스,사우나,스파,까페테리아)*단지에서 바로 연결되는 한강산책로에서의 운동과 단지 바로앞의서울숲은 최고의 행복한 생활이 가능한 트리마제의 인기요인 입니다 *강남의 쇼핑,문화,명품거리등 모든 생활권을 가깝게 누릴수 있습니다 *성수대교,강변북로,올림픽대로,동부간선도로 등 주요 도로 진입이굉장히 편리하며 분당선 서울숲역은 도보 5분거리로 교통역세권에위치하고 있습니다.* 신축 아파트인 트리마제 현재 가장 많은 매물을 확보하고 있습니다. 궁금하신 내용은 언제든지 전화주시면 정확하고 친절하게안내해 드리겠습니다. '"
      ]
     },
     "execution_count": 13,
     "metadata": {},
     "output_type": "execute_result"
    }
   ],
   "source": [
    "description"
   ]
  },
  {
   "cell_type": "code",
   "execution_count": null,
   "metadata": {},
   "outputs": [],
   "source": []
  }
 ],
 "metadata": {
  "kernelspec": {
   "display_name": "Python 3",
   "language": "python",
   "name": "python3"
  },
  "language_info": {
   "codemirror_mode": {
    "name": "ipython",
    "version": 3
   },
   "file_extension": ".py",
   "mimetype": "text/x-python",
   "name": "python",
   "nbconvert_exporter": "python",
   "pygments_lexer": "ipython3",
   "version": "3.7.4"
  }
 },
 "nbformat": 4,
 "nbformat_minor": 4
}
