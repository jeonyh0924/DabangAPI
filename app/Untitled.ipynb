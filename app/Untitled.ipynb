{
 "cells": [
  {
   "cell_type": "code",
   "execution_count": 305,
   "metadata": {},
   "outputs": [],
   "source": [
    "import os\n",
    "import re\n",
    "import time\n",
    "import urllib\n",
    "import requests\n",
    "from django.core.files import File\n",
    "from selenium import webdriver\n",
    "from selenium.common.exceptions import NoSuchElementException, UnexpectedAlertPresentException\n",
    "import json"
   ]
  },
  {
   "cell_type": "code",
   "execution_count": 306,
   "metadata": {},
   "outputs": [],
   "source": [
    "driver = webdriver.Chrome('/Users/mac/projects/ChromeWebDriver/chromedriver')"
   ]
  },
  {
   "cell_type": "code",
   "execution_count": 307,
   "metadata": {},
   "outputs": [],
   "source": [
    "presaleMainList = [\n",
    "#     'https://www.dabangapp.com/sales-in-lots#/theme',\n",
    "    'https://www.dabangapp.com/sales-in-lots#/brand']"
   ]
  },
  {
   "cell_type": "markdown",
   "metadata": {},
   "source": [
    "# 브랜드관"
   ]
  },
  {
   "cell_type": "code",
   "execution_count": 304,
   "metadata": {},
   "outputs": [
    {
     "name": "stdout",
     "output_type": "stream",
     "text": [
      "https://www.dabangapp.com/sales-in-lots#/brand\n",
      "1\n",
      "/html/body/div[1]/div/div[2]/div/div/div[1]/div/div[1]\n",
      "brand >> 아이파크\n"
     ]
    },
    {
     "name": "stderr",
     "output_type": "stream",
     "text": [
      "/usr/local/var/pyenv/versions/3.7.4/envs/fc-dabangTransfer/lib/python3.7/site-packages/ipykernel_launcher.py:22: DeprecationWarning: use driver.switch_to.window instead\n"
     ]
    },
    {
     "name": "stdout",
     "output_type": "stream",
     "text": [
      "1\n"
     ]
    },
    {
     "name": "stderr",
     "output_type": "stream",
     "text": [
      "/usr/local/var/pyenv/versions/3.7.4/envs/fc-dabangTransfer/lib/python3.7/site-packages/ipykernel_launcher.py:27: DeprecationWarning: use driver.switch_to.window instead\n"
     ]
    },
    {
     "name": "stdout",
     "output_type": "stream",
     "text": [
      "2\n",
      "3\n",
      "4\n",
      "5\n",
      "6\n",
      "7\n",
      "8\n",
      "9\n",
      "10\n",
      "11\n",
      "12\n",
      "13\n",
      "--------\n",
      "2\n",
      "/html/body/div[1]/div/div[2]/div/div/div[1]/div/div[2]\n",
      "brand >> 푸르지오\n",
      "1\n",
      "2\n",
      "3\n",
      "4\n",
      "5\n",
      "6\n",
      "7\n",
      "8\n",
      "9\n",
      "10\n",
      "11\n",
      "12\n",
      "13\n",
      "14\n",
      "15\n",
      "16\n",
      "17\n",
      "18\n",
      "19\n",
      "20\n",
      "21\n",
      "22\n",
      "23\n",
      "--------\n",
      "3\n",
      "/html/body/div[1]/div/div[2]/div/div/div[1]/div/div[3]\n",
      "brand >> e편한세상\n",
      "1\n",
      "2\n",
      "3\n",
      "4\n",
      "5\n",
      "6\n",
      "7\n",
      "8\n",
      "9\n",
      "10\n",
      "11\n",
      "12\n",
      "--------\n",
      "4\n",
      "/html/body/div[1]/div/div[2]/div/div/div[1]/div/div[4]\n",
      "brand >> SK뷰\n",
      "1\n",
      "2\n",
      "3\n",
      "4\n",
      "5\n",
      "6\n",
      "7\n",
      "--------\n"
     ]
    }
   ],
   "source": [
    "for main_url in presaleMainList:\n",
    "    driver.get(main_url)\n",
    "    if main_url == 'https://www.dabangapp.com/sales-in-lots#/theme':\n",
    "        pass\n",
    "    else:\n",
    "        for url in presaleMainList:\n",
    "            print(url)\n",
    "            driver.get(url)\n",
    "            brand_name_list = driver.find_elements_by_xpath('/html/body/div[1]/div/div[2]/div/div/div[1]/div/div')\n",
    "            for index in range(len(brand_name_list)):\n",
    "                print(f'{index+1}')\n",
    "                print(f'/html/body/div[1]/div/div[2]/div/div/div[1]/div/div[{index+1}]')\n",
    "                button = driver.find_element_by_xpath(f'/html/body/div[1]/div/div[2]/div/div/div[1]/div/div[{index+1}]')\n",
    "                brand = button.get_attribute('innerText')\n",
    "                print('brand >>', brand)\n",
    "                driver.execute_script(\"arguments[0].click();\", button)\n",
    "                time.sleep(1)\n",
    "                table_rows = driver.find_elements_by_xpath('/html/body/div[1]/div/div[2]/div/div/div[2]/table/tbody/tr')\n",
    "                for row_index, rows in enumerate(rang₩e(len(table_rows))):\n",
    "                    button = driver.find_element_by_xpath(f'/html/body/div[1]/div/div[2]/div/div/div[2]/table/tbody/tr[{row_index+1}]')\n",
    "                    driver.execute_script(\"arguments[0].click();\", button)\n",
    "                    driver.switch_to_window(driver.window_handles[1])\n",
    "                    print(row_index+1)\n",
    "                    time.sleep(1)\n",
    "        #             페이지 크롤링 시작 \n",
    "                    driver.close();\n",
    "                    driver.switch_to_window(driver.window_handles[0])\n",
    "                print('--------')"
   ]
  },
  {
   "cell_type": "code",
   "execution_count": 282,
   "metadata": {},
   "outputs": [],
   "source": [
    "concept_list = driver.find_elements_by_xpath('/html/body/div[1]/div/div[2]/div/div/div[1]/div[1]/p')"
   ]
  },
  {
   "cell_type": "code",
   "execution_count": 283,
   "metadata": {},
   "outputs": [
    {
     "data": {
      "text/plain": [
       "7"
      ]
     },
     "execution_count": 283,
     "metadata": {},
     "output_type": "execute_result"
    }
   ],
   "source": [
    "len(concept_list)"
   ]
  },
  {
   "cell_type": "code",
   "execution_count": 308,
   "metadata": {},
   "outputs": [],
   "source": [
    "driver.get('https://www.dabangapp.com/sales-in-lots#/theme')"
   ]
  },
  {
   "cell_type": "code",
   "execution_count": 284,
   "metadata": {},
   "outputs": [
    {
     "name": "stdout",
     "output_type": "stream",
     "text": [
      "청약중 ------------------------ thema\n",
      "--------\n",
      "역세권 ------------------------ thema\n",
      "--------\n",
      "신도시 ------------------------ thema\n",
      "--------\n",
      "재개발재건축 ------------------------ thema\n",
      "--------\n",
      "분양예정 ------------------------ thema\n",
      "--------\n",
      "대단지 ------------------------ thema\n",
      "--------\n",
      "GTX권 ------------------------ thema\n",
      "--------\n"
     ]
    }
   ],
   "source": [
    "# 테마분양 크롤링\n",
    "for index in range(len(concept_list)):\n",
    "    try:\n",
    "        button = driver.find_element_by_xpath(f'/html/body/div[1]/div/div[2]/div/div/div[1]/div[1]/p[{index+1}]')\n",
    "        thema = driver.find_element_by_xpath(f'/html/body/div[1]/div/div[2]/div/div/div[1]/div[1]/p[{index+1}]')\n",
    "        thema = thema.get_attribute('innerText')\n",
    "        print(thema, '------------------------ thema')\n",
    "        driver.execute_script(\"arguments[0].click();\", button)\n",
    "        time.sleep(1)\n",
    "        table_rows = driver.find_elements_by_xpath('/html/body/div[1]/div/div[2]/div/div/div[2]/table/tbody/tr')\n",
    "        for row_index, rows in enumerate(range(len(table_rows))):\n",
    "            button = driver.find_element_by_xpath(f'/html/body/div[1]/div/div[2]/div/div/div[2]/table/tbody/tr[{row_index+1}]')\n",
    "            driver.execute_script(\"arguments[0].click();\", button)\n",
    "            driver.switch_to_window(driver.window_handles[1])\n",
    "            print(row_index+1)\n",
    "            time.sleep(1)\n",
    "#             페이지 크롤링 시작 \n",
    "            driver.close();\n",
    "            driver.switch_to_window(driver.window_handles[0])\n",
    "        print('--------')\n",
    "    except NoSuchElementException:\n",
    "        pass"
   ]
  },
  {
   "cell_type": "code",
   "execution_count": 309,
   "metadata": {},
   "outputs": [],
   "source": [
    "driver.get('https://www.dabangapp.com/sales-in-lots/5cc6bf857c8b1e43b853eff5a9d0')"
   ]
  },
  {
   "cell_type": "code",
   "execution_count": 310,
   "metadata": {},
   "outputs": [
    {
     "name": "stdout",
     "output_type": "stream",
     "text": [
      "status >> 분양예정\n"
     ]
    }
   ],
   "source": [
    "status = driver.find_element_by_xpath('/html/body/div[1]/div/div/div[1]/div/div/div[1]/span[1]')\n",
    "status = status.get_attribute('innerText')\n",
    "print('status >>', status)"
   ]
  },
  {
   "cell_type": "code",
   "execution_count": 311,
   "metadata": {},
   "outputs": [
    {
     "name": "stdout",
     "output_type": "stream",
     "text": [
      "term>>> 20년 하반기 모집공고\n"
     ]
    }
   ],
   "source": [
    "term = driver.find_element_by_xpath('/html/body/div[1]/div/div/div[1]/div/div/div[1]/span[2]')\n",
    "term = term.get_attribute('innerText')\n",
    "print('term>>>', term)"
   ]
  },
  {
   "cell_type": "code",
   "execution_count": 312,
   "metadata": {},
   "outputs": [
    {
     "name": "stdout",
     "output_type": "stream",
     "text": [
      "name >>>  산성역 센트럴파크 자이&푸르지오\n"
     ]
    }
   ],
   "source": [
    "name = driver.find_element_by_xpath('/html/body/div[1]/div/div/div[1]/div/div/div[1]/h1')\n",
    "name = name.get_attribute('innerText')\n",
    "print('name >>> ', name)"
   ]
  },
  {
   "cell_type": "code",
   "execution_count": 313,
   "metadata": {},
   "outputs": [
    {
     "name": "stdout",
     "output_type": "stream",
     "text": [
      "place >>>>  경기도 성남시 수정구 신흥동\n"
     ]
    }
   ],
   "source": [
    "place = driver.find_element_by_xpath('/html/body/div[1]/div/div/div[1]/div/div/div[1]/p')\n",
    "place = place.get_attribute('innerText')\n",
    "print('place >>>> ', place)"
   ]
  },
  {
   "cell_type": "code",
   "execution_count": 314,
   "metadata": {},
   "outputs": [
    {
     "name": "stdout",
     "output_type": "stream",
     "text": [
      "sales type >>>>  아파트\n"
     ]
    }
   ],
   "source": [
    "sales_type = driver.find_element_by_xpath('/html/body/div[1]/div/div/div[1]/div/div/div[2]/span')\n",
    "sales_type = sales_type.get_attribute('innerText')\n",
    "print('sales type >>>> ', sales_type)"
   ]
  },
  {
   "cell_type": "code",
   "execution_count": 315,
   "metadata": {},
   "outputs": [
    {
     "name": "stdout",
     "output_type": "stream",
     "text": [
      "sales price >>>  분양가 준비중\n"
     ]
    }
   ],
   "source": [
    "sales_price = driver.find_element_by_xpath('/html/body/div[1]/div/div/div[1]/div/div/div[2]/p')\n",
    "sales_price = sales_price.get_attribute('innerText')\n",
    "print('sales price >>> ', sales_price)"
   ]
  },
  {
   "cell_type": "code",
   "execution_count": 316,
   "metadata": {},
   "outputs": [
    {
     "name": "stdout",
     "output_type": "stream",
     "text": [
      "total citizen >>  4774세대\n"
     ]
    }
   ],
   "source": [
    "total_citizen = driver.find_element_by_xpath('/html/body/div[1]/div/div/div[1]/div/ul/li[1]/p[2]')\n",
    "total_citizen = total_citizen.get_attribute('innerText')\n",
    "print('total citizen >> ', total_citizen)"
   ]
  },
  {
   "cell_type": "code",
   "execution_count": 317,
   "metadata": {},
   "outputs": [
    {
     "name": "stdout",
     "output_type": "stream",
     "text": [
      "sales_citizen >>>>  1718세대\n"
     ]
    }
   ],
   "source": [
    "sales_citizen = driver.find_element_by_xpath('/html/body/div[1]/div/div/div[1]/div/ul/li[2]/p[2]')\n",
    "sales_citizen = sales_citizen.get_attribute('innerText')\n",
    "print('sales_citizen >>>> ', sales_citizen)"
   ]
  },
  {
   "cell_type": "code",
   "execution_count": 318,
   "metadata": {},
   "outputs": [
    {
     "name": "stdout",
     "output_type": "stream",
     "text": [
      "min_max_floor >>>  지상 29층\n"
     ]
    }
   ],
   "source": [
    "min_max_floor = driver.find_element_by_xpath('/html/body/div[1]/div/div/div[1]/div/ul/li[3]/p[2]')\n",
    "min_max_floor = min_max_floor.get_attribute('innerText')\n",
    "print('min_max_floor >>> ', min_max_floor)"
   ]
  },
  {
   "cell_type": "code",
   "execution_count": 319,
   "metadata": {
    "scrolled": true
   },
   "outputs": [
    {
     "name": "stdout",
     "output_type": "stream",
     "text": [
      "complex_sclae >>  총 31개동\n"
     ]
    }
   ],
   "source": [
    "complex_scale = driver.find_element_by_xpath('/html/body/div[1]/div/div/div[1]/div/ul/li[4]/p[2]')\n",
    "complex_scale = complex_scale.get_attribute('innerText')\n",
    "print('complex_sclae >> ', complex_scale )"
   ]
  },
  {
   "cell_type": "markdown",
   "metadata": {},
   "source": [
    "# 디테일 부분"
   ]
  },
  {
   "cell_type": "code",
   "execution_count": 320,
   "metadata": {},
   "outputs": [
    {
     "name": "stdout",
     "output_type": "stream",
     "text": [
      "detail_type >>>  아파트\n"
     ]
    }
   ],
   "source": [
    "detail_type = driver.find_element_by_xpath('/html/body/div[1]/div/div/div[3]/div/table/tbody/tr[1]/td[1]')\n",
    "detail_type = detail_type.get_attribute('innerText')\n",
    "print('detail_type >>> ', detail_type)"
   ]
  },
  {
   "cell_type": "code",
   "execution_count": 321,
   "metadata": {},
   "outputs": [
    {
     "name": "stdout",
     "output_type": "stream",
     "text": [
      "constraint >> 전매제한\n"
     ]
    }
   ],
   "source": [
    "constraint = driver.find_element_by_xpath('/html/body/div[1]/div/div/div[3]/div/table/tbody/tr[2]/td[1]')\n",
    "constraint = constraint.get_attribute('innerText')\n",
    "print('constraint >>', constraint)"
   ]
  },
  {
   "cell_type": "code",
   "execution_count": 322,
   "metadata": {},
   "outputs": [
    {
     "name": "stdout",
     "output_type": "stream",
     "text": [
      "area >>> 51~84㎡\n"
     ]
    }
   ],
   "source": [
    "area = driver.find_element_by_xpath('/html/body/div[1]/div/div/div[3]/div/table/tbody/tr[3]/td[1]')\n",
    "area = area.get_attribute('innerText')\n",
    "print('area >>>', area)"
   ]
  },
  {
   "cell_type": "code",
   "execution_count": 323,
   "metadata": {},
   "outputs": [
    {
     "name": "stdout",
     "output_type": "stream",
     "text": [
      "supply_type >> 민간분양\n"
     ]
    }
   ],
   "source": [
    "supply_type = driver.find_element_by_xpath('/html/body/div[1]/div/div/div[3]/div/table/tbody/tr[1]/td[2]')\n",
    "supply_type = supply_type.get_attribute('innerText')\n",
    "print('supply_type >>', supply_type)"
   ]
  },
  {
   "cell_type": "code",
   "execution_count": 324,
   "metadata": {},
   "outputs": [
    {
     "name": "stdout",
     "output_type": "stream",
     "text": [
      "constraint 공급 제한 지역 >> -\n"
     ]
    }
   ],
   "source": [
    "constraint_area = driver.find_element_by_xpath('/html/body/div[1]/div/div/div[3]/div/table/tbody/tr[2]/td[2]')\n",
    "constraint_area = constraint_area.get_attribute('innerText')\n",
    "print('constraint 공급 제한 지역 >>', constraint_area)"
   ]
  },
  {
   "cell_type": "code",
   "execution_count": 325,
   "metadata": {},
   "outputs": [
    {
     "name": "stdout",
     "output_type": "stream",
     "text": [
      "recruit >> 20년 하반기\n"
     ]
    }
   ],
   "source": [
    "recruit = driver.find_element_by_xpath('/html/body/div[1]/div/div/div[3]/div/table/tbody/tr[3]/td[2]')\n",
    "recruit = recruit.get_attribute('innerText')\n",
    "print('recruit >>', recruit)"
   ]
  },
  {
   "cell_type": "code",
   "execution_count": 326,
   "metadata": {},
   "outputs": [
    {
     "name": "stdout",
     "output_type": "stream",
     "text": [
      "builder >> GS건설,대우건설\n"
     ]
    }
   ],
   "source": [
    "builder = driver.find_element_by_xpath('/html/body/div[1]/div/div/div[3]/div/table/tbody/tr[1]/td[3]')\n",
    "builder = builder.get_attribute('innerText')\n",
    "print('builder >>', builder)"
   ]
  },
  {
   "cell_type": "code",
   "execution_count": 327,
   "metadata": {},
   "outputs": [
    {
     "name": "stdout",
     "output_type": "stream",
     "text": [
      "max_price >>>  -\n"
     ]
    }
   ],
   "source": [
    "max_price = driver.find_element_by_xpath('/html/body/div[1]/div/div/div[3]/div/table/tbody/tr[2]/td[3]')\n",
    "max_price = max_price.get_attribute('innerText')\n",
    "print('max_price >>> ', max_price)"
   ]
  },
  {
   "cell_type": "code",
   "execution_count": 328,
   "metadata": {},
   "outputs": [
    {
     "name": "stdout",
     "output_type": "stream",
     "text": [
      "move In >>> 준비중\n"
     ]
    }
   ],
   "source": [
    "moveIn = driver.find_element_by_xpath('/html/body/div[1]/div/div/div[3]/div/table/tbody/tr[3]/td[3]')\n",
    "moveIn = moveIn.get_attribute('innerText')\n",
    "print('move In >>>', moveIn)"
   ]
  },
  {
   "cell_type": "code",
   "execution_count": 329,
   "metadata": {},
   "outputs": [
    {
     "name": "stdout",
     "output_type": "stream",
     "text": [
      "developer >> -\n"
     ]
    }
   ],
   "source": [
    "developer = driver.find_element_by_xpath('/html/body/div[1]/div/div/div[3]/div/table/tbody/tr[1]/td[4]')\n",
    "developer = developer.get_attribute('innerText')\n",
    "print('developer >>', developer)"
   ]
  },
  {
   "cell_type": "code",
   "execution_count": 330,
   "metadata": {},
   "outputs": [
    {
     "name": "stdout",
     "output_type": "stream",
     "text": [
      "constraint_term >>> -\n"
     ]
    }
   ],
   "source": [
    "constraint_term = driver.find_element_by_xpath('/html/body/div[1]/div/div/div[3]/div/table/tbody/tr[2]/td[4]')\n",
    "constraint_term = constraint_term.get_attribute('innerText')\n",
    "print('constraint_term >>>', constraint_term)"
   ]
  },
  {
   "cell_type": "markdown",
   "metadata": {},
   "source": [
    "# 이미지"
   ]
  },
  {
   "cell_type": "code",
   "execution_count": 331,
   "metadata": {},
   "outputs": [],
   "source": [
    "div_list = driver.find_elements_by_xpath('/html/body/div[1]/div/div/div[4]/div/div/div')\n",
    "\n",
    "complex_image_list = []\n",
    "\n",
    "for i, url in enumerate(div_list):\n",
    "    try:\n",
    "        cls_name = url.get_attribute('class')\n",
    "        cls_name = cls_name.split(' ')\n",
    "        cls_name = cls_name[1]\n",
    "        photo = driver.execute_script(\n",
    "            f'return window.getComputedStyle(document.querySelector(\".{cls_name}\"),\":after\").getPropertyValue(\"background\")')\n",
    "        recommend_image = re.findall(r'\"(.*?)\"', photo)\n",
    "        complex_image_list.append(recommend_image[0])\n",
    "    except IndexError:\n",
    "        pass\n"
   ]
  },
  {
   "cell_type": "code",
   "execution_count": 333,
   "metadata": {},
   "outputs": [
    {
     "data": {
      "text/plain": [
       "['https://d2o59jgeq8ig2.cloudfront.net/complex/1024/73f83795-bc89-4241-a540-2427b9263905',\n",
       " 'https://www.dabangapp.com/sales-in-lots/5cc6bf857c8b1e43b853eff5a9d0',\n",
       " 'https://www.dabangapp.com/sales-in-lots/5cc6bf857c8b1e43b853eff5a9d0',\n",
       " 'https://www.dabangapp.com/sales-in-lots/5cc6bf857c8b1e43b853eff5a9d0',\n",
       " 'https://www.dabangapp.com/sales-in-lots/5cc6bf857c8b1e43b853eff5a9d0']"
      ]
     },
     "execution_count": 333,
     "metadata": {},
     "output_type": "execute_result"
    }
   ],
   "source": [
    "complex_image_list"
   ]
  },
  {
   "cell_type": "code",
   "execution_count": 247,
   "metadata": {},
   "outputs": [
    {
     "name": "stdout",
     "output_type": "stream",
     "text": [
      "d\n"
     ]
    }
   ],
   "source": [
    "# 빈 리스트라면\n",
    "if not complex_image_list:\n",
    "    print('빈 리스트')\n",
    "else:\n",
    "    print('d')"
   ]
  },
  {
   "cell_type": "code",
   "execution_count": 250,
   "metadata": {},
   "outputs": [
    {
     "name": "stdout",
     "output_type": "stream",
     "text": [
      "None None\n"
     ]
    }
   ],
   "source": [
    "try:\n",
    "    detail_price = driver.find_element_by_xpath('/html/body/div[1]/div/div/div[6]/div[1]/div/ul/li[1]/div/p[2]')\n",
    "    detail_price = detail_price.get_attribute('innerText')\n",
    "    print('detail_price >>', detail_price)\n",
    "    price_pyeong = driver.find_element_by_xpath('/html/body/div[1]/div/div/div[6]/div[1]/div/ul/li[2]/div/p[2]')\n",
    "    price_pyeong = price_pyeong.get_attribute('innerText')\n",
    "    print('price_pyeong>>', price_pyeong)\n",
    "except NoSuchElementException:\n",
    "    detail_price = None\n",
    "    price_pyeong = None\n",
    "    print(detail_price, price_pyeong)"
   ]
  },
  {
   "cell_type": "code",
   "execution_count": null,
   "metadata": {},
   "outputs": [],
   "source": []
  },
  {
   "cell_type": "code",
   "execution_count": 334,
   "metadata": {},
   "outputs": [],
   "source": [
    "import time\n",
    "\n",
    "from selenium import webdriver\n",
    "\n",
    "\n",
    "def find_apartment_urls():\n",
    "    driver = webdriver.Chrome('/Users/mac/projects/ChromeWebDriver/chromedriver')\n",
    "    driver.get('https://www.dabangapp.com/search#/map')\n",
    "\n",
    "    driver.find_element_by_name('keyword').send_keys('성수동1가')\n",
    "    time.sleep(2)\n",
    "\n",
    "    button = driver.find_element_by_xpath('/html/body/div[1]/div/div[1]/div/div[1]/ul/li[1]/ul/li[1]')\n",
    "    driver.execute_script(\"arguments[0].click();\", button)\n",
    "    time.sleep(2)\n",
    "\n",
    "    button = driver.find_element_by_xpath('/html/body/div[1]/div/div[1]/div/div[2]/div[1]/div')\n",
    "    driver.execute_script(\"arguments[0].click();\", button)\n",
    "    time.sleep(2)\n",
    "\n",
    "    button = driver.find_element_by_xpath(\n",
    "        '/html/body/div[1]/div/div[1]/div/div[2]/div[1]/div[2]/ul[2]/li/label/span[2]')\n",
    "    driver.execute_script(\"arguments[0].click();\", button)\n",
    "    time.sleep(2)\n",
    "\n",
    "    apt_list = []\n",
    "    for i in range(6):\n",
    "        apart_urls = driver.find_elements_by_xpath('/html/body/div[1]/div/div[2]/div[1]/div/div[2]/ul/li/div/a')\n",
    "        for url in apart_urls:\n",
    "            apt_list.append(url.get_attribute('href'))\n",
    "        button = driver.find_element_by_xpath('/html/body/div[1]/div/div[2]/div[1]/div/div[2]/div/div/div/button[2]')\n",
    "        driver.execute_script(\"arguments[0].click();\", button)\n",
    "        time.sleep(2)\n",
    "\n",
    "    # 성수 2동 시작.\n",
    "    driver.find_element_by_name('keyword').send_keys('성수동2가')\n",
    "    time.sleep(2)\n",
    "\n",
    "    button = driver.find_element_by_xpath('/html/body/div[1]/div/div[1]/div/div[1]/ul/li[1]/ul/li[1]')\n",
    "    driver.execute_script(\"arguments[0].click();\", button)\n",
    "    time.sleep(2)\n",
    "\n",
    "    button = driver.find_element_by_xpath('/html/body/div[1]/div/div[1]/div/div[2]/div[1]/div')\n",
    "    driver.execute_script(\"arguments[0].click();\", button)\n",
    "    time.sleep(2)\n",
    "\n",
    "    apart_urls = driver.find_elements_by_xpath('/html/body/div[1]/div/div[2]/div[1]/div/div[2]/ul/li/div/a')\n",
    "\n",
    "    for url in apart_urls:\n",
    "        apt_list.append(url.get_attribute('href'))\n",
    "    button = driver.find_element_by_xpath('/html/body/div[1]/div/div[2]/div[1]/div/div[2]/div/div/div/button[2]')\n",
    "    driver.execute_script(\"arguments[0].click();\", button)\n",
    "    time.sleep(2)\n",
    "\n",
    "    apart_urls = driver.find_elements_by_xpath('/html/body/div[1]/div/div[2]/div[1]/div/div[2]/ul/li/div/a')\n",
    "    for url in apart_urls:\n",
    "        apt_list.append(url.get_attribute('href'))\n",
    "    driver.close()\n",
    "    return apt_list\n",
    "\n",
    "\n",
    "def find_urls():\n",
    "    driver = webdriver.Chrome('/Users/mac/projects/ChromeWebDriver/chromedriver')\n",
    "    driver.implicitly_wait(3)\n",
    "    driver.get('https://www.dabangapp.com/search#/map')\n",
    "    driver.find_element_by_name('keyword').send_keys('성수동1가')\n",
    "    driver.find_element_by_xpath('/html/body/div[1]/div/div[1]/div/div[1]/ul/li[1]/ul/li[1]').click()\n",
    "    driver.find_element_by_xpath('/html/body/div[1]/div/div[2]/div[1]/div/div[1]/a[1]').click()\n",
    "\n",
    "    time.sleep(2)\n",
    "    url_all_list = []\n",
    "    for i in range(0, 3):\n",
    "        time.sleep(2)\n",
    "        seongsoo_1dong_detail_list = driver.find_elements_by_xpath(\n",
    "            \"/html/body/div[1]/div/div[2]/div[1]/div/div[2]/ul/li/div/a\")\n",
    "        for data in seongsoo_1dong_detail_list:\n",
    "            url_all_list.append(data.get_attribute('href'))\n",
    "        button = driver.find_element_by_xpath('/html/body/div[1]/div/div[2]/div[1]/div/div[2]/div/div/div/button[2]')\n",
    "        driver.execute_script(\"arguments[0].click();\", button)\n",
    "    print(len(url_all_list))\n",
    "\n",
    "    driver.find_element_by_name('keyword').send_keys('성수동2가')\n",
    "    time.sleep(2)\n",
    "    driver.find_element_by_xpath('/html/body/div[1]/div/div[1]/div/div[1]/ul/li[1]/ul/li[1]').click()\n",
    "    driver.find_element_by_xpath('/html/body/div[1]/div/div[2]/div[1]/div/div[1]/a[1]').click()\n",
    "    time.sleep(2)\n",
    "    seongsoo_2dong_detail_list = driver.find_elements_by_xpath(\n",
    "        \"/html/body/div[1]/div/div[2]/div[1]/div/div[2]/ul[2]/li/div/a\")\n",
    "    for data in seongsoo_2dong_detail_list:\n",
    "        url_all_list.append(data.get_attribute('href'))\n",
    "    for i in range(0, 2):\n",
    "        time.sleep(2)\n",
    "        seongsoo_2dong_detail_list = driver.find_elements_by_xpath(\n",
    "            \"/html/body/div[1]/div/div[2]/div[1]/div/div[2]/ul/li/div/a\")\n",
    "        for data in seongsoo_2dong_detail_list[2:]:\n",
    "            url_all_list.append(data.get_attribute('href'))\n",
    "        button = driver.find_element_by_xpath('/html/body/div[1]/div/div[2]/div[1]/div/div[2]/div/div/div/button[2]')\n",
    "        driver.execute_script(\"arguments[0].click();\", button)\n",
    "    print(len(url_all_list))\n",
    "    driver.close()\n",
    "    return url_all_list"
   ]
  },
  {
   "cell_type": "code",
   "execution_count": 335,
   "metadata": {},
   "outputs": [
    {
     "name": "stdout",
     "output_type": "stream",
     "text": [
      "아파트 단지 url ['https://www.dabangapp.com/room/5eb59185e1e2485ba9a12ae1', 'https://www.dabangapp.com/room/5eb3c32ad20703480a8fe21d', 'https://www.dabangapp.com/room/5eb59150db395e5baa7c1679', 'https://www.dabangapp.com/room/5eb591c92d6f915bae482bdc', 'https://www.dabangapp.com/room/5eb5957521417d5baa269d70', 'https://www.dabangapp.com/room/5eb36986ce134746d426f90c', 'https://www.dabangapp.com/room/5eb36982f6fa2242e66e3de6', 'https://www.dabangapp.com/room/5ea7b6b42eeb9a577f75ef26', 'https://www.dabangapp.com/room/5eacee5d1b5b4a0571462a44', 'https://www.dabangapp.com/room/5ead0a60dbf9cc25f5dbf555', 'https://www.dabangapp.com/room/5eb3919990cdb3798683ef4a', 'https://www.dabangapp.com/room/5eaf876a801c932936216d82', 'https://www.dabangapp.com/room/5ea13a4941df6448833e550f', 'https://www.dabangapp.com/room/5eb516a18e46b40130326336', 'https://www.dabangapp.com/room/5ea8e2f50f4a936ab7e147e6', 'https://www.dabangapp.com/room/5e9f966d5bff6f69c8e5269a', 'https://www.dabangapp.com/room/5eb384132da72875503b231c', 'https://www.dabangapp.com/room/5eaf8c40ea9772088fc9f66f', 'https://www.dabangapp.com/room/5e991207f8626e52174025fa', 'https://www.dabangapp.com/room/5eb24e44916b57724502ae17', 'https://www.dabangapp.com/room/5eaf990eaf46cb11c5abbc2a', 'https://www.dabangapp.com/room/5eb5168e2e3d8101301062d2', 'https://www.dabangapp.com/room/5e941f861343d9304c095c33', 'https://www.dabangapp.com/room/5ea66086393fbb26ee468081', 'https://www.dabangapp.com/room/5eb26e26a1eec506cf1327c0', 'https://www.dabangapp.com/room/5e9a801126b6362ef9643304', 'https://www.dabangapp.com/room/5e9a93546f87913df7e9a3c8', 'https://www.dabangapp.com/room/5ead0da70753cd64e0725c4d', 'https://www.dabangapp.com/room/5eb64c13cfeb427feeaa7840', 'https://www.dabangapp.com/room/5ea8ff8ac45498341f6be42d', 'https://www.dabangapp.com/room/5eaf9c79fd1eed543f5dece3', 'https://www.dabangapp.com/room/5eafe61df191f22ffb8d94a0', 'https://www.dabangapp.com/room/5eafe61239adc62ffb9bb1ac', 'https://www.dabangapp.com/room/5eaceef8099b7d0571360f56', 'https://www.dabangapp.com/room/5eb3667678e1dd05f20908f2', 'https://www.dabangapp.com/room/5eafe616e295812ffb8d2bbe', 'https://www.dabangapp.com/room/5eafe15b121b79551aac9af4', 'https://www.dabangapp.com/room/5ea14ef101a9a858d050e301', 'https://www.dabangapp.com/room/5eb0d502ce206734d058f08f', 'https://www.dabangapp.com/room/5eb36cee877076091a6289c8', 'https://www.dabangapp.com/room/5ea8dadffd53194a5d62d0a5', 'https://www.dabangapp.com/room/5e9a9586f8d6c15542e17680', 'https://www.dabangapp.com/room/5e9a8085ec0d5e2ef92ba4b0', 'https://www.dabangapp.com/room/5ea123f5b5044172720f27c4', 'https://www.dabangapp.com/room/5ea109f0d044dc64ec9e83c4', 'https://www.dabangapp.com/room/5e959ed59d092d2d947a6e82', 'https://www.dabangapp.com/room/5e9001d9004a6b46f8e283bc', 'https://www.dabangapp.com/room/5eb240ad189c3b62487d0651', 'https://www.dabangapp.com/room/5ea7b4ec8f487f2751bc300a', 'https://www.dabangapp.com/room/5e990448a2d17027c7d5a1be', 'https://www.dabangapp.com/room/5eb518e0f193fa1296307660', 'https://www.dabangapp.com/room/5ea792b860fdb47924f11ce6', 'https://www.dabangapp.com/room/5ea14be8a66c1345b3284e41', 'https://www.dabangapp.com/room/5eafc9b12264457a00c76db4', 'https://www.dabangapp.com/room/5ea68e4fe8ed5447ab747158', 'https://www.dabangapp.com/room/5eb39e1919a4a4635f532442', 'https://www.dabangapp.com/room/5eb388decc2c8c4417bb7eb4', 'https://www.dabangapp.com/room/5eb285e92a7bca0723f65956', 'https://www.dabangapp.com/room/5eb51671d9f65d01307a5d8e', 'https://www.dabangapp.com/room/5eb2061428651854009724ca', 'https://www.dabangapp.com/room/5e9e4be7a2089e2a1ea40848', 'https://www.dabangapp.com/room/5ea7d2570ff5d91930f70f4d', 'https://www.dabangapp.com/room/5ea66d43fd4c941c8c5ae5ff', 'https://www.dabangapp.com/room/5eb25998f7dbfc7609e59f38', 'https://www.dabangapp.com/room/5eafe6197d60eb2ffbeea70b', 'https://www.dabangapp.com/room/5ea7e3c3ad2e4b054f2c4323', 'https://www.dabangapp.com/room/5ea6658f73f5247e2527ee16', 'https://www.dabangapp.com/room/5ea63b1fd829bd07c1cff5f3', 'https://www.dabangapp.com/room/5eb254a27249426a75927a9c', 'https://www.dabangapp.com/room/5e9d9148b9fe4f38991401fa', 'https://www.dabangapp.com/room/5eacd13605cd3b48d260be20', 'https://www.dabangapp.com/room/5eb516b198e8000130ae247b', 'https://www.dabangapp.com/room/5ea7e3a172665c054f62d3ce', 'https://www.dabangapp.com/room/5ea79470d8ff712a5255199e', 'https://www.dabangapp.com/room/5ea903aa7b2c0871b199d61b', 'https://www.dabangapp.com/room/5ea1445d636ba07f16d4646c', 'https://www.dabangapp.com/room/5ea14e14caceac45b3db6f09', 'https://www.dabangapp.com/room/5ea8f5c05d0ce16e242d4822', 'https://www.dabangapp.com/room/5eb51680e49bdb0130f391df', 'https://www.dabangapp.com/room/5eb25c0cab7ce8760969504b', 'https://www.dabangapp.com/room/5e901025f3ff9d77d2ee73f7', 'https://www.dabangapp.com/room/5ea11e5b142e92049163a55e', 'https://www.dabangapp.com/room/5ea7cea62d02d7513aee1429', 'https://www.dabangapp.com/room/5eb23066690c0d2728f27fcd', 'https://www.dabangapp.com/room/5eb388f592e6a84417bae1a5', 'https://www.dabangapp.com/room/5ea7dc2aae35516a7f932a85', 'https://www.dabangapp.com/room/5e919ebcf6898d237c673810', 'https://www.dabangapp.com/room/5ead45deaa313e33b6a00f7a', 'https://www.dabangapp.com/room/5e990650191cf83bfeb9b2ff', 'https://www.dabangapp.com/room/5ead4ca08ac6793a10dc5d37', 'https://www.dabangapp.com/room/5eaf9c5e271f06543f6e4d1d', 'https://www.dabangapp.com/room/5eb23b7d94563f08db046103', 'https://www.dabangapp.com/room/5eb4d2af316a26277ae879f2', 'https://www.dabangapp.com/room/5ea15bed9b68f41cd31be68f', 'https://www.dabangapp.com/room/5ea79f5cb709817b314964f0', 'https://www.dabangapp.com/room/5e967dbc5448c97f566410e9', 'https://www.dabangapp.com/room/5ea7d33a4a78301930ca5fbc', 'https://www.dabangapp.com/room/5eb4e4ee164f1c1d76333935', 'https://www.dabangapp.com/room/5ea8f2f851510b2cfd314ef6', 'https://www.dabangapp.com/room/5e991254697bff521708eeb6', 'https://www.dabangapp.com/room/5ea7d76a07d92274416faaed', 'https://www.dabangapp.com/room/5eb62e3330cfe63796d9759b', 'https://www.dabangapp.com/room/5eb203c0f2c93a0eff04eb86', 'https://www.dabangapp.com/room/5ea7b97e5074091c0ac1ccb0', 'https://www.dabangapp.com/room/5ea15bec9e83bd1cd30c0dd7', 'https://www.dabangapp.com/room/5eb253f46890756a7591947d', 'https://www.dabangapp.com/room/5ea12196911aae727274516c', 'https://www.dabangapp.com/room/5e993faad404b13eebefc07c', 'https://www.dabangapp.com/room/5eb3a2616741886a365a238a', 'https://www.dabangapp.com/room/5ea108010bc55f40bb3205d7', 'https://www.dabangapp.com/room/5ead15239044a16cfe5cab3e', 'https://www.dabangapp.com/room/5ea11daa6ad99a6b87825030', 'https://www.dabangapp.com/room/5ea67a1edf2d2f21d37dfee0', 'https://www.dabangapp.com/room/5ead5183833a7b1ac3dfcb8d', 'https://www.dabangapp.com/room/5eb22a5977d5a721b73adc0e', 'https://www.dabangapp.com/room/5ea7da04e8dccd47fdd8872b', 'https://www.dabangapp.com/room/5eb62e246898253796b4b3fa', 'https://www.dabangapp.com/room/5eb35b2399dbc61169aa3a58', 'https://www.dabangapp.com/room/5ea68bcf4b33eb37381dd93d', 'https://www.dabangapp.com/room/5ea7b08f658edb62f80dd7a7', 'https://www.dabangapp.com/room/5e9830b9b663983579c58766', 'https://www.dabangapp.com/room/5ea107a769d22940bb6dfb00', 'https://www.dabangapp.com/room/5eb3b348154a4708eb4919b0', 'https://www.dabangapp.com/room/5ea6660c65a9c97e26801afa', 'https://www.dabangapp.com/room/5ea8dad47f781b4a5d54e209', 'https://www.dabangapp.com/room/5eb518e82636ef1296aa1303', 'https://www.dabangapp.com/room/5eb22de47e1a9e63a687c900', 'https://www.dabangapp.com/room/5e9a9d28f3c5cc720adcf372', 'https://www.dabangapp.com/room/5ea7a5e885cf0a73feb47037', 'https://www.dabangapp.com/room/5eb4b0fa7394681107c2e222', 'https://www.dabangapp.com/room/5eb2803708da50185a14e70b', 'https://www.dabangapp.com/room/5ea6719df30e4906b9b5d1b0', 'https://www.dabangapp.com/room/5ea12d58a0489228291ef92a', 'https://www.dabangapp.com/room/5ea11d665478006b87d097a9', 'https://www.dabangapp.com/room/5ea153fc23360a602a5b3dff', 'https://www.dabangapp.com/room/5eafe0a2bb3158474215f0df', 'https://www.dabangapp.com/room/5eb23979fca2f142da8365b1', 'https://www.dabangapp.com/room/5ea14e016addd145b3ec8dc3', 'https://www.dabangapp.com/room/5eaf992b1d780f11c54bb16e', 'https://www.dabangapp.com/room/5ea7d0d2bc08a7732f5f44eb', 'https://www.dabangapp.com/room/5eaf8526e7a32678ece9c7c8', 'https://www.dabangapp.com/room/5e95402d89c3f624a200b096', 'https://www.dabangapp.com/room/5eb38696d480804416930875', 'https://www.dabangapp.com/room/5eb3a24cb0756d6a36085097', 'https://www.dabangapp.com/room/5eb280a4cffbd0185a24347a', 'https://www.dabangapp.com/room/5e97d58eaef5dd36e7d0546c', 'https://www.dabangapp.com/room/5eafb916dca9da58adb35b7f', 'https://www.dabangapp.com/room/5e93d59f0d890e350fde4db7', 'https://www.dabangapp.com/room/5eb3bc53d41f434cfcb434f7', 'https://www.dabangapp.com/room/5ead47dde54b1d591c5881ff', 'https://www.dabangapp.com/room/5ea678fc7cc1f313a06db646', 'https://www.dabangapp.com/room/5eacea45168ec43fe268c959', 'https://www.dabangapp.com/room/5eb35a671c2ca87c0f798b5b', 'https://www.dabangapp.com/room/5eb25d6fc6082919b7e47a63', 'https://www.dabangapp.com/room/5eb6536b6a383706539d2bf5', 'https://www.dabangapp.com/room/5ead4a97264454168ccbf4e3', 'https://www.dabangapp.com/room/5eb25d7062995919b779cd44', 'https://www.dabangapp.com/room/5ead4fe4fe27e268d4404b58', 'https://www.dabangapp.com/room/5ead050fd7ca9f3d78950322', 'https://www.dabangapp.com/room/5ead42acb0fcf76ef3cab03e', 'https://www.dabangapp.com/room/5eb398120c90c372804fa5ad', 'https://www.dabangapp.com/room/5eb3c6475c29df2922a719a5', 'https://www.dabangapp.com/room/5eafe2cb322a7f6fcdd585d2', 'https://www.dabangapp.com/room/5eb4f647fc0b735e0ae65a8f', 'https://www.dabangapp.com/room/5e9d77fa86a7380414e4fe0f', 'https://www.dabangapp.com/room/5ea6885d490e5f4178850216', 'https://www.dabangapp.com/room/5eaf8ae0cf6382725b62d1bd', 'https://www.dabangapp.com/room/5eafe2ef872c536fcd574ce4', 'https://www.dabangapp.com/room/5ea93474bcb5484c35db746e', 'https://www.dabangapp.com/room/5ead19b693a8625720caebe9', 'https://www.dabangapp.com/room/5eafc65b0c2de628e3167275', 'https://www.dabangapp.com/room/5e9a828f0d68674507df2f6f', 'https://www.dabangapp.com/room/5e9146a83fb2521b2c49ecee', 'https://www.dabangapp.com/room/5eb4fe6bba3c3607544e6ee3', 'https://www.dabangapp.com/room/5eb360c7a4227e74d49edf89', 'https://www.dabangapp.com/room/5ead42d55f1b5c6ef3d9b23c', 'https://www.dabangapp.com/room/5eb36f9e58770a4368f1af78', 'https://www.dabangapp.com/room/5eb4f64fa7cfa65e0a941341', 'https://www.dabangapp.com/room/5eb62e5fdc3ce437965aa2e2', 'https://www.dabangapp.com/room/5e95779ac7ba0c4ad2ccf748', 'https://www.dabangapp.com/room/5ea65c1e2ac2a83cdb7db18d', 'https://www.dabangapp.com/room/5eb2126905b83e207ba6e028', 'https://www.dabangapp.com/room/5e9900c05b96152a30f1836c', 'https://www.dabangapp.com/room/5eb2408bf14c2062481b2eaf', 'https://www.dabangapp.com/room/5ead0bed24324c4644027077', 'https://www.dabangapp.com/room/5eacf9a266969e57bf13d867', 'https://www.dabangapp.com/room/5e940cdd1ce2ec3178760a38', 'https://www.dabangapp.com/room/5ea126699cd5531b825459c0']\n"
     ]
    }
   ],
   "source": [
    "url_all_list = find_apartment_urls()\n",
    "print('아파트 단지 url', url_all_list)"
   ]
  },
  {
   "cell_type": "code",
   "execution_count": 336,
   "metadata": {},
   "outputs": [
    {
     "name": "stdout",
     "output_type": "stream",
     "text": [
      "56\n",
      "100\n",
      "오피스텔 매물 ['https://www.dabangapp.com/room/5eb4e92d4f11c02da69edec4', 'https://www.dabangapp.com/room/5eb4e96b61d4cf2da655fcc2', 'https://www.dabangapp.com/room/5eb6566c6295876dcc152ae5', 'https://www.dabangapp.com/room/5eb39d0666dbf277c0f13770', 'https://www.dabangapp.com/room/5eafc4e64cb2280d81848220', 'https://www.dabangapp.com/room/5e996a9b7accce730023773e', 'https://www.dabangapp.com/room/5eb4f74c05d0994834879de3', 'https://www.dabangapp.com/room/5eacfec2cf86d6027db476f5', 'https://www.dabangapp.com/room/5e9435995c3ac1609a8fd908', 'https://www.dabangapp.com/room/5ea8fb2f1e40cc1e1d594582', 'https://www.dabangapp.com/room/5ea816f32998671e96b1e1ea', 'https://www.dabangapp.com/room/5e9034ed4ef6ae3420ccbfb7', 'https://www.dabangapp.com/room/5ea5b918f8f81035004116ce', 'https://www.dabangapp.com/room/5e9fd19bdea9fc5a7d8f5173', 'https://www.dabangapp.com/room/5d64b386c2523c16a42f3d07', 'https://www.dabangapp.com/room/5eb4a4855fc38e52448eed34', 'https://www.dabangapp.com/room/5e4b99581a00fb457ff0ef63', 'https://www.dabangapp.com/room/5e9192b1afa34c2320474d61', 'https://www.dabangapp.com/room/5ea65cbc38e46c2fdc92a4ef', 'https://www.dabangapp.com/room/5ea3ce6350f429521fa8f957', 'https://www.dabangapp.com/room/5eb683b11569c77afe3dc3f3', 'https://www.dabangapp.com/room/5e58feb4bab02104722d161f', 'https://www.dabangapp.com/room/5eb4e9543f51085ccdf79583', 'https://www.dabangapp.com/room/5eafbefa64c5a51add57d9ec', 'https://www.dabangapp.com/room/5eb36a6bfe05670c3c83a6ff', 'https://www.dabangapp.com/room/5eb661ab63b141763b79c328', 'https://www.dabangapp.com/room/5e994fc856dddc1856281d59', 'https://www.dabangapp.com/room/5ea931e53e078172cff52cac', 'https://www.dabangapp.com/room/5eb6744a0794c405cb03e6e1', 'https://www.dabangapp.com/room/5eab6f68ebb0ab04d5b09645', 'https://www.dabangapp.com/room/5eb2556685633f4b9ff60626', 'https://www.dabangapp.com/room/5e99601abc1a2e63758d1968', 'https://www.dabangapp.com/room/5eb591984966ab5bad867724', 'https://www.dabangapp.com/room/5e99104de7921f1d798272a3', 'https://www.dabangapp.com/room/5eb680fdd34d3d7f57486157', 'https://www.dabangapp.com/room/5eb591c62558c85bb2628b57', 'https://www.dabangapp.com/room/5eafc339eced9c2814ab0916', 'https://www.dabangapp.com/room/5ea65cb7aa04a31d3ce76eb4', 'https://www.dabangapp.com/room/5ea934f7cb0ad47994b296df', 'https://www.dabangapp.com/room/5eb503f99a5aca54e348c400', 'https://www.dabangapp.com/room/5ea0f58193c1372ac2df539f', 'https://www.dabangapp.com/room/5eaf9b9b88cf4849d008040d', 'https://www.dabangapp.com/room/5e0f3718d96bea310291e09a', 'https://www.dabangapp.com/room/5eacc989737755348a1f036b', 'https://www.dabangapp.com/room/5ead4a09323dd0565f86b4e3', 'https://www.dabangapp.com/room/5ea64a5363265c685a5f9db0', 'https://www.dabangapp.com/room/5eb210f22d95413b0a3afd58', 'https://www.dabangapp.com/room/5eb211028fcbd541d319d9ba', 'https://www.dabangapp.com/room/5e33bb027bfab713de85a774', 'https://www.dabangapp.com/room/5eb0f98c664e4766d7027408', 'https://www.dabangapp.com/room/5ea7ba9ef5156f6618c42a7a', 'https://www.dabangapp.com/room/5eb210fc9506791d2c461856', 'https://www.dabangapp.com/room/5ea0fcfd27599121780b30b1', 'https://www.dabangapp.com/room/5e97be37ebb9bb57a7d35d5f', 'https://www.dabangapp.com/room/5d8ee7ac7fa17e2f2267239a', 'https://www.dabangapp.com/room/5eafbac735016b1f1fdf1f41', 'https://www.dabangapp.com/room/5e91566b0f96861e75b1b60f', 'https://www.dabangapp.com/room/5e7c52a336e37e1fa669f93e', 'https://www.dabangapp.com/room/5ead54200bd7545180eba7aa', 'https://www.dabangapp.com/room/5eaa3b2f82bc382d2031d35a', 'https://www.dabangapp.com/room/5e9960100d9b5158f03c1317', 'https://www.dabangapp.com/room/5eb2adabc1b983790015f0ea', 'https://www.dabangapp.com/room/5e9c62555563ac2c0f02f549', 'https://www.dabangapp.com/room/5eb2089fd0b54f35941dc742', 'https://www.dabangapp.com/room/5ea909faf296e4162a46f190', 'https://www.dabangapp.com/room/5ddcfaec6e8a987c8a9e65e1', 'https://www.dabangapp.com/room/5d89b7deb3be6628c11e79d4', 'https://www.dabangapp.com/room/581ae8a8f7f1fe26fd7d65f0', 'https://www.dabangapp.com/room/5e6132798c88164b71a43b63', 'https://www.dabangapp.com/room/59f3e67dc6cda31e4c4f8b33', 'https://www.dabangapp.com/room/5e8d36c5643ef26fe5d7a23a', 'https://www.dabangapp.com/room/5eabc9c15517ca5d0f85386d', 'https://www.dabangapp.com/room/5e93d057bc9e1620963edf68', 'https://www.dabangapp.com/room/5e61de5954444f17b12b891d', 'https://www.dabangapp.com/room/5eb3ab0dd7e69b2866810e14', 'https://www.dabangapp.com/room/5e9c0e2aa154f95c0ef1cd3a', 'https://www.dabangapp.com/room/5eb3cc30aa2bdb3c68cf0920', 'https://www.dabangapp.com/room/5ea90a94e54d692c65dd6377', 'https://www.dabangapp.com/room/5e92d088e2f8f970339a1816', 'https://www.dabangapp.com/room/5ea3d81ed930955fb1abd57f', 'https://www.dabangapp.com/room/5e577c56e868473adfb353ff', 'https://www.dabangapp.com/room/5ead53ffd8816651802ed2c1', 'https://www.dabangapp.com/room/5eb2557319f32c5f349b2c76', 'https://www.dabangapp.com/room/5eb20bb83710273594f98125', 'https://www.dabangapp.com/room/5e19204fd1e8ba59c8b5d7f4', 'https://www.dabangapp.com/room/5e7866f0485b277642a0bea0', 'https://www.dabangapp.com/room/5eb2555e4d9cd15e0fbaf50f', 'https://www.dabangapp.com/room/5eb7534d83e824744723d5b4', 'https://www.dabangapp.com/room/5eb3e239b75fc879530dd52b', 'https://www.dabangapp.com/room/5e9a9ccf17b6ea61206f3133', 'https://www.dabangapp.com/room/5e99621f39378058bf1c015e', 'https://www.dabangapp.com/room/5eb3bb425fe8c446eabea181', 'https://www.dabangapp.com/room/5e24669efd66bf3f32346a69', 'https://www.dabangapp.com/room/5ddf97f4224cdd3567cebf9b', 'https://www.dabangapp.com/room/5ea11deceb27865ced4c9866', 'https://www.dabangapp.com/room/5c8319179435f455bfadb906', 'https://www.dabangapp.com/room/5e8c077fc6addb21400412cb', 'https://www.dabangapp.com/room/5e659c74f2a3ac415c367599', 'https://www.dabangapp.com/room/5e268a6db427ae304ec68e3f', 'https://www.dabangapp.com/room/5eafd2f9a19dc5367ca3d15e']\n"
     ]
    }
   ],
   "source": [
    "officetels = find_urls()\n",
    "url_all_list += officetels\n",
    "print('오피스텔 매물', officetels)"
   ]
  },
  {
   "cell_type": "code",
   "execution_count": null,
   "metadata": {},
   "outputs": [],
   "source": []
  }
 ],
 "metadata": {
  "kernelspec": {
   "display_name": "Python 3",
   "language": "python",
   "name": "python3"
  },
  "language_info": {
   "codemirror_mode": {
    "name": "ipython",
    "version": 3
   },
   "file_extension": ".py",
   "mimetype": "text/x-python",
   "name": "python",
   "nbconvert_exporter": "python",
   "pygments_lexer": "ipython3",
   "version": "3.7.4"
  }
 },
 "nbformat": 4,
 "nbformat_minor": 4
}
